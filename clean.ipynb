{
 "cells": [
  {
   "cell_type": "code",
   "execution_count": 1,
   "metadata": {},
   "outputs": [],
   "source": [
    "import pandas as pd\n",
    "import numpy as np"
   ]
  },
  {
   "cell_type": "code",
   "execution_count": 2,
   "metadata": {},
   "outputs": [],
   "source": [
    "laptop = pd.read_csv('laptops_train.csv')"
   ]
  },
  {
   "cell_type": "code",
   "execution_count": 3,
   "metadata": {},
   "outputs": [
    {
     "name": "stdout",
     "output_type": "stream",
     "text": [
      "Dataset dimensions:  (977, 13)\n"
     ]
    }
   ],
   "source": [
    "print(\"Dataset dimensions: \", laptop.shape)"
   ]
  },
  {
   "cell_type": "code",
   "execution_count": 4,
   "metadata": {},
   "outputs": [
    {
     "data": {
      "text/html": [
       "<div>\n",
       "<style scoped>\n",
       "    .dataframe tbody tr th:only-of-type {\n",
       "        vertical-align: middle;\n",
       "    }\n",
       "\n",
       "    .dataframe tbody tr th {\n",
       "        vertical-align: top;\n",
       "    }\n",
       "\n",
       "    .dataframe thead th {\n",
       "        text-align: right;\n",
       "    }\n",
       "</style>\n",
       "<table border=\"1\" class=\"dataframe\">\n",
       "  <thead>\n",
       "    <tr style=\"text-align: right;\">\n",
       "      <th></th>\n",
       "      <th>Manufacturer</th>\n",
       "      <th>Model Name</th>\n",
       "      <th>Category</th>\n",
       "      <th>Screen Size</th>\n",
       "      <th>Screen</th>\n",
       "      <th>CPU</th>\n",
       "      <th>RAM</th>\n",
       "      <th>Storage</th>\n",
       "      <th>GPU</th>\n",
       "      <th>Operating System</th>\n",
       "      <th>Operating System Version</th>\n",
       "      <th>Weight</th>\n",
       "      <th>Price</th>\n",
       "    </tr>\n",
       "  </thead>\n",
       "  <tbody>\n",
       "    <tr>\n",
       "      <th>0</th>\n",
       "      <td>Apple</td>\n",
       "      <td>MacBook Pro</td>\n",
       "      <td>Ultrabook</td>\n",
       "      <td>13.3\"</td>\n",
       "      <td>IPS Panel Retina Display 2560x1600</td>\n",
       "      <td>Intel Core i5 2.3GHz</td>\n",
       "      <td>8GB</td>\n",
       "      <td>128GB SSD</td>\n",
       "      <td>Intel Iris Plus Graphics 640</td>\n",
       "      <td>macOS</td>\n",
       "      <td>NaN</td>\n",
       "      <td>1.37kg</td>\n",
       "      <td>11912523.48</td>\n",
       "    </tr>\n",
       "    <tr>\n",
       "      <th>1</th>\n",
       "      <td>Apple</td>\n",
       "      <td>Macbook Air</td>\n",
       "      <td>Ultrabook</td>\n",
       "      <td>13.3\"</td>\n",
       "      <td>1440x900</td>\n",
       "      <td>Intel Core i5 1.8GHz</td>\n",
       "      <td>8GB</td>\n",
       "      <td>128GB Flash Storage</td>\n",
       "      <td>Intel HD Graphics 6000</td>\n",
       "      <td>macOS</td>\n",
       "      <td>NaN</td>\n",
       "      <td>1.34kg</td>\n",
       "      <td>7993374.48</td>\n",
       "    </tr>\n",
       "    <tr>\n",
       "      <th>2</th>\n",
       "      <td>HP</td>\n",
       "      <td>250 G6</td>\n",
       "      <td>Notebook</td>\n",
       "      <td>15.6\"</td>\n",
       "      <td>Full HD 1920x1080</td>\n",
       "      <td>Intel Core i5 7200U 2.5GHz</td>\n",
       "      <td>8GB</td>\n",
       "      <td>256GB SSD</td>\n",
       "      <td>Intel HD Graphics 620</td>\n",
       "      <td>No OS</td>\n",
       "      <td>NaN</td>\n",
       "      <td>1.86kg</td>\n",
       "      <td>5112900.00</td>\n",
       "    </tr>\n",
       "    <tr>\n",
       "      <th>3</th>\n",
       "      <td>Apple</td>\n",
       "      <td>MacBook Pro</td>\n",
       "      <td>Ultrabook</td>\n",
       "      <td>15.4\"</td>\n",
       "      <td>IPS Panel Retina Display 2880x1800</td>\n",
       "      <td>Intel Core i7 2.7GHz</td>\n",
       "      <td>16GB</td>\n",
       "      <td>512GB SSD</td>\n",
       "      <td>AMD Radeon Pro 455</td>\n",
       "      <td>macOS</td>\n",
       "      <td>NaN</td>\n",
       "      <td>1.83kg</td>\n",
       "      <td>22563005.40</td>\n",
       "    </tr>\n",
       "    <tr>\n",
       "      <th>4</th>\n",
       "      <td>Apple</td>\n",
       "      <td>MacBook Pro</td>\n",
       "      <td>Ultrabook</td>\n",
       "      <td>13.3\"</td>\n",
       "      <td>IPS Panel Retina Display 2560x1600</td>\n",
       "      <td>Intel Core i5 3.1GHz</td>\n",
       "      <td>8GB</td>\n",
       "      <td>256GB SSD</td>\n",
       "      <td>Intel Iris Plus Graphics 650</td>\n",
       "      <td>macOS</td>\n",
       "      <td>NaN</td>\n",
       "      <td>1.37kg</td>\n",
       "      <td>16037611.20</td>\n",
       "    </tr>\n",
       "  </tbody>\n",
       "</table>\n",
       "</div>"
      ],
      "text/plain": [
       "  Manufacturer   Model Name   Category Screen Size  \\\n",
       "0        Apple  MacBook Pro  Ultrabook       13.3\"   \n",
       "1        Apple  Macbook Air  Ultrabook       13.3\"   \n",
       "2           HP       250 G6   Notebook       15.6\"   \n",
       "3        Apple  MacBook Pro  Ultrabook       15.4\"   \n",
       "4        Apple  MacBook Pro  Ultrabook       13.3\"   \n",
       "\n",
       "                               Screen                         CPU   RAM  \\\n",
       "0  IPS Panel Retina Display 2560x1600        Intel Core i5 2.3GHz   8GB   \n",
       "1                            1440x900        Intel Core i5 1.8GHz   8GB   \n",
       "2                   Full HD 1920x1080  Intel Core i5 7200U 2.5GHz   8GB   \n",
       "3  IPS Panel Retina Display 2880x1800        Intel Core i7 2.7GHz  16GB   \n",
       "4  IPS Panel Retina Display 2560x1600        Intel Core i5 3.1GHz   8GB   \n",
       "\n",
       "               Storage                           GPU Operating System  \\\n",
       "0            128GB SSD  Intel Iris Plus Graphics 640            macOS   \n",
       "1  128GB Flash Storage        Intel HD Graphics 6000            macOS   \n",
       "2            256GB SSD         Intel HD Graphics 620            No OS   \n",
       "3            512GB SSD            AMD Radeon Pro 455            macOS   \n",
       "4            256GB SSD  Intel Iris Plus Graphics 650            macOS   \n",
       "\n",
       "  Operating System Version  Weight        Price  \n",
       "0                      NaN  1.37kg  11912523.48  \n",
       "1                      NaN  1.34kg   7993374.48  \n",
       "2                      NaN  1.86kg   5112900.00  \n",
       "3                      NaN  1.83kg  22563005.40  \n",
       "4                      NaN  1.37kg  16037611.20  "
      ]
     },
     "execution_count": 4,
     "metadata": {},
     "output_type": "execute_result"
    }
   ],
   "source": [
    "laptop.head()"
   ]
  },
  {
   "cell_type": "code",
   "execution_count": 5,
   "metadata": {},
   "outputs": [
    {
     "name": "stdout",
     "output_type": "stream",
     "text": [
      "<class 'pandas.core.frame.DataFrame'>\n",
      "RangeIndex: 977 entries, 0 to 976\n",
      "Data columns (total 13 columns):\n",
      " #   Column                    Non-Null Count  Dtype  \n",
      "---  ------                    --------------  -----  \n",
      " 0   Manufacturer              977 non-null    object \n",
      " 1   Model Name                977 non-null    object \n",
      " 2   Category                  977 non-null    object \n",
      " 3   Screen Size               977 non-null    object \n",
      " 4   Screen                    977 non-null    object \n",
      " 5   CPU                       977 non-null    object \n",
      " 6   RAM                       977 non-null    object \n",
      " 7    Storage                  977 non-null    object \n",
      " 8   GPU                       977 non-null    object \n",
      " 9   Operating System          977 non-null    object \n",
      " 10  Operating System Version  841 non-null    object \n",
      " 11  Weight                    977 non-null    object \n",
      " 12  Price                     977 non-null    float64\n",
      "dtypes: float64(1), object(12)\n",
      "memory usage: 99.4+ KB\n"
     ]
    }
   ],
   "source": [
    "laptop.info()"
   ]
  },
  {
   "cell_type": "code",
   "execution_count": 6,
   "metadata": {},
   "outputs": [],
   "source": [
    "laptop['Operating System Version'].fillna(\"\", inplace=True)"
   ]
  },
  {
   "cell_type": "code",
   "execution_count": 7,
   "metadata": {},
   "outputs": [
    {
     "data": {
      "text/plain": [
       "Index(['manufacturer', 'model name', 'category', 'screen size', 'screen',\n",
       "       'cpu', 'ram', 'storage', 'gpu', 'operating system',\n",
       "       'operating system version', 'weight', 'price'],\n",
       "      dtype='object')"
      ]
     },
     "execution_count": 7,
     "metadata": {},
     "output_type": "execute_result"
    }
   ],
   "source": [
    "laptop = laptop.rename(columns=str.lower)\n",
    "\n",
    "laptop = laptop.rename(columns={\" storage\": \"storage\"})\n",
    "\n",
    "laptop.columns"
   ]
  },
  {
   "cell_type": "code",
   "execution_count": 8,
   "metadata": {},
   "outputs": [
    {
     "name": "stdout",
     "output_type": "stream",
     "text": [
      "<class 'pandas.core.frame.DataFrame'>\n",
      "RangeIndex: 977 entries, 0 to 976\n",
      "Data columns (total 13 columns):\n",
      " #   Column                    Non-Null Count  Dtype  \n",
      "---  ------                    --------------  -----  \n",
      " 0   manufacturer              977 non-null    object \n",
      " 1   model name                977 non-null    object \n",
      " 2   category                  977 non-null    object \n",
      " 3   screen size               977 non-null    object \n",
      " 4   screen                    977 non-null    object \n",
      " 5   cpu                       977 non-null    object \n",
      " 6   ram                       977 non-null    object \n",
      " 7   storage                   977 non-null    object \n",
      " 8   gpu                       977 non-null    object \n",
      " 9   operating system          977 non-null    object \n",
      " 10  operating system version  977 non-null    object \n",
      " 11  weight                    977 non-null    object \n",
      " 12  price                     977 non-null    float64\n",
      "dtypes: float64(1), object(12)\n",
      "memory usage: 99.4+ KB\n"
     ]
    }
   ],
   "source": [
    "laptop.info()"
   ]
  },
  {
   "cell_type": "code",
   "execution_count": 9,
   "metadata": {},
   "outputs": [
    {
     "data": {
      "text/html": [
       "<div>\n",
       "<style scoped>\n",
       "    .dataframe tbody tr th:only-of-type {\n",
       "        vertical-align: middle;\n",
       "    }\n",
       "\n",
       "    .dataframe tbody tr th {\n",
       "        vertical-align: top;\n",
       "    }\n",
       "\n",
       "    .dataframe thead th {\n",
       "        text-align: right;\n",
       "    }\n",
       "</style>\n",
       "<table border=\"1\" class=\"dataframe\">\n",
       "  <thead>\n",
       "    <tr style=\"text-align: right;\">\n",
       "      <th></th>\n",
       "      <th>price</th>\n",
       "    </tr>\n",
       "  </thead>\n",
       "  <tbody>\n",
       "    <tr>\n",
       "      <th>count</th>\n",
       "      <td>9.770000e+02</td>\n",
       "    </tr>\n",
       "    <tr>\n",
       "      <th>mean</th>\n",
       "      <td>1.001899e+07</td>\n",
       "    </tr>\n",
       "    <tr>\n",
       "      <th>std</th>\n",
       "      <td>6.306430e+06</td>\n",
       "    </tr>\n",
       "    <tr>\n",
       "      <th>min</th>\n",
       "      <td>1.706375e+06</td>\n",
       "    </tr>\n",
       "    <tr>\n",
       "      <th>25%</th>\n",
       "      <td>5.326308e+06</td>\n",
       "    </tr>\n",
       "    <tr>\n",
       "      <th>50%</th>\n",
       "      <td>8.527428e+06</td>\n",
       "    </tr>\n",
       "    <tr>\n",
       "      <th>75%</th>\n",
       "      <td>1.311570e+07</td>\n",
       "    </tr>\n",
       "    <tr>\n",
       "      <th>max</th>\n",
       "      <td>5.423231e+07</td>\n",
       "    </tr>\n",
       "  </tbody>\n",
       "</table>\n",
       "</div>"
      ],
      "text/plain": [
       "              price\n",
       "count  9.770000e+02\n",
       "mean   1.001899e+07\n",
       "std    6.306430e+06\n",
       "min    1.706375e+06\n",
       "25%    5.326308e+06\n",
       "50%    8.527428e+06\n",
       "75%    1.311570e+07\n",
       "max    5.423231e+07"
      ]
     },
     "execution_count": 9,
     "metadata": {},
     "output_type": "execute_result"
    }
   ],
   "source": [
    "# Ini penjelasannya belum\n",
    "laptop.describe()"
   ]
  },
  {
   "cell_type": "code",
   "execution_count": 10,
   "metadata": {},
   "outputs": [
    {
     "name": "stdout",
     "output_type": "stream",
     "text": [
      "Number of duplicate rows:  0\n"
     ]
    }
   ],
   "source": [
    "duplicate_rows = laptop[laptop.duplicated()]\n",
    "print(\"Number of duplicate rows: \", len(duplicate_rows))\n",
    "laptop = laptop.drop_duplicates()"
   ]
  },
  {
   "cell_type": "code",
   "execution_count": 11,
   "metadata": {},
   "outputs": [
    {
     "name": "stdout",
     "output_type": "stream",
     "text": [
      "Dell         232\n",
      "Lenovo       226\n",
      "HP           179\n",
      "Asus         122\n",
      "Acer          83\n",
      "Toshiba       39\n",
      "MSI           34\n",
      "Apple         17\n",
      "Samsung        8\n",
      "Mediacom       7\n",
      "Microsoft      6\n",
      "Razer          5\n",
      "Xiaomi         4\n",
      "Chuwi          3\n",
      "Google         3\n",
      "LG             3\n",
      "Huawei         2\n",
      "Vero           2\n",
      "Fujitsu        2\n",
      "Name: manufacturer, dtype: int64\n",
      "['Apple' 'HP' 'Acer' 'Asus' 'Dell' 'Lenovo' 'Chuwi' 'MSI' 'Microsoft'\n",
      " 'Toshiba' 'Huawei' 'Xiaomi' 'Vero' 'Razer' 'Mediacom' 'Samsung' 'Google'\n",
      " 'Fujitsu' 'LG']\n"
     ]
    }
   ],
   "source": [
    "print(laptop['manufacturer'].value_counts())\n",
    "print(laptop['manufacturer'].unique())"
   ]
  },
  {
   "cell_type": "code",
   "execution_count": 12,
   "metadata": {},
   "outputs": [
    {
     "name": "stdout",
     "output_type": "stream",
     "text": [
      "['MacBook Pro' 'Macbook Air' '250 G6' 'Aspire 3' 'ZenBook UX430UN'\n",
      " 'Swift 3' 'Inspiron 3567' 'MacBook 12\"' 'IdeaPad 320-15IKB' 'XPS 13'\n",
      " 'Vivobook E200HA' 'Legion Y520-15IKBN' '255 G6' 'Inspiron 5379'\n",
      " '15-BS101nv (i7-8550U/8GB/256GB/FHD/W10)' 'MacBook Air' 'Inspiron 5570'\n",
      " 'Latitude 5590' 'ProBook 470' 'LapBook 15.6\"'\n",
      " 'E402WA-GA010T (E2-6110/2GB/32GB/W10)'\n",
      " '17-ak001nv (A6-9220/4GB/500GB/Radeon' 'IdeaPad 120S-14IAP'\n",
      " 'Inspiron 5770' 'ProBook 450' 'X540UA-DM186 (i3-6006U/4GB/1TB/FHD/Linux)'\n",
      " 'Inspiron 7577' 'X542UQ-GO005 (i5-7200U/8GB/1TB/GeForce'\n",
      " 'Aspire A515-51G' 'Inspiron 7773' 'IdeaPad 320-15ISK' 'Rog Strix'\n",
      " 'X751NV-TY001T (N4200/4GB/1TB/GeForce' 'Yoga Book' 'ProBook 430'\n",
      " 'Inspiron 3576' '15-bs002nv (i3-6006U/4GB/128GB/FHD/W10)' 'VivoBook Max'\n",
      " 'GS73VR 7RG' 'X541UA-DM1897 (i3-6006U/4GB/256GB/FHD/Linux)' 'Vostro 5471'\n",
      " 'IdeaPad 520S-14IKB' 'UX410UA-GV350T (i5-8250U/8GB/256GB/FHD/W10)'\n",
      " 'ZenBook Pro' 'Stream 14-AX040wm' 'V310-15ISK (i5-7200U/4GB/1TB/FHD/W10)'\n",
      " 'FX753VE-GC093 (i7-7700HQ/12GB/1TB/GeForce' 'Surface Laptop'\n",
      " 'Inspiron 5370' 'GL72M 7RDX' 'Aspire E5-475'\n",
      " 'FX503VD-E4022T (i7-7700HQ/8GB/1TB/GeForce' 'IdeaPad 320-15IKBN'\n",
      " 'Aspire A515-51G-32MX' 'ProBook 440' 'IdeaPad 320-15AST'\n",
      " 'Pavilion 15-CK000nv' 'FX503VM-E4007T (i7-7700HQ/16GB/1TB'\n",
      " 'FX550IK-DM018T (FX-9830P/8GB/1TB/Radeon' 'Aspire 5' 'Probook 430'\n",
      " 'Zenbook UX430UA' 'Spin 5' 'X541UV-DM1439T (i3-7100U/6GB/256GB/GeForce'\n",
      " 'Omen 15-ce007nv' '15-bs017nv (i7-7500U/8GB/256GB/Radeon'\n",
      " '15-bw000nv (E2-9000e/4GB/500GB/Radeon' 'Envy 13-ad009n'\n",
      " 'Pavilion 14-BK001nv' 'Ideapad 310-15ISK'\n",
      " 'UX430UQ-GV209R (i7-7500U/8GB/256GB/GeForce' 'GP62M 7REX' 'Thinkpad T470'\n",
      " 'VivoBook S15' 'ThinkPad Yoga' 'Probook 440' 'Spectre x360'\n",
      " 'Inspiron 7570' 'X705UV-BX074T (i3-6006U/4GB/1TB/GeForce' 'Spin 3'\n",
      " 'GS63VR 7RG' 'Probook 470' 'E402WA-GA007T (E2-6110/4GB/64GB/W10'\n",
      " 'Inspiron 5567' 'Aspire A515-51G-37JS'\n",
      " '15-BS078nr (i7-7500U/8GB/1TB/W10)' 'V110-15IAP (N3350/4GB/1TB/No'\n",
      " 'FX753VD-GC086T (i5-7300HQ/8GB/1TB' 'Envy 13-AD007nv' 'ThinkPad E480'\n",
      " 'Satellite Pro' 'ZenBook UX430UA' 'EliteBook Folio'\n",
      " 'X541NA (N3350/4GB/1TB/FHD/W10)' 'GE72MVR 7RG' 'Aspire A315-51'\n",
      " 'Inspiron 5577' 'Inspiron 7567' 'V110-15IKB (i5-7200U/4GB/128GB/W10)'\n",
      " 'GE73VR 7RE' 'EliteBook 840' '15-BS103nv (i5-8250U/6GB/256GB/Radeon'\n",
      " 'Yoga 520-14IKB' 'ZenBook Flip' 'Inspiron 5579'\n",
      " 'X555BP-XX180T (A9-9420/4GB/1TB/Radeon' 'Aspire A517-51G'\n",
      " 'Aspire A315-31' 'GE63VR 7RE' 'MateBook X'\n",
      " '17-bs001nv (i5-7200U/6GB/2TB/Radeon' 'GT80S 6QF-074US'\n",
      " 'V310-15IKB (i5-7200U/8GB/1TB' 'Yoga 920-13IKB' 'Mi Notebook' 'XPS 15'\n",
      " 'Swift 7' 'Thinkpad Yoga' 'K147 (N3350/4GB/32GB/FHD/W10)'\n",
      " 'IdeaPad 320-17IKBR' 'Blade Pro' 'Omen 17-W295'\n",
      " 'V110-15ISK (i5-6200U/4GB/128GB/W10)' 'Aspire E5-576G'\n",
      " 'Legion Y720-15IKB' 'Precision 7520' 'Aspire 7' 'ROG GL703VD-GC028T'\n",
      " '15-bs018nq (i3-6006U/4GB/500GB/FHD/No' 'IdeaPad 320-17IKB'\n",
      " 'Latitude 5490' 'Portege Z30-C-16L' 'Alienware 17'\n",
      " 'Vivobook X541UV-DM1217T' 'K756UX-T4340T (i5-7200U/8GB/500GB' 'ZBook 15u'\n",
      " 'Pro P2540UA-XO0198T' '15-rb013nv (E2-9000e/4GB/500GB/W10)' 'Vostro 5468'\n",
      " 'Aspire R7' 'X555QG-DM242T (A10-9620P/4GB/1TB' 'ROG G703VI-E5062T'\n",
      " 'Nitro AN515-51' 'VivoBook Pro' 'F756UX-T4201D (i7-7500U/8GB/128GB'\n",
      " 'Yoga 910-13IKB' '15-bs015dx (i5-7200U/8GB/1TB/W10)' 'Rog G701VIK-BA060T'\n",
      " 'ROG G752VSK-GC493T' 'X505BP-BR019T (A9-9420/4GB/1TB/Radeon'\n",
      " 'Vostro 5370' '15-BW094nd (A6-9220/8GB/128GB/W10)' 'Envy 17-U275cl'\n",
      " 'GT73EVR 7RE' 'Yoga 720-15IKB' 'Vostro 3568'\n",
      " 'V330-15IKB (i7-8550U/8GB/256GB/FHD/W10)' 'ThinkPad X1'\n",
      " 'IdeaPad 320-17ISK' 'Ideapad 320-15IKBN'\n",
      " 'SP315-51 (i7-7500U/12GB/1TB/FHD/W10)' 'Thinkpad T570'\n",
      " 'Chromebook C910-C2ST' 'FX753VD-GC071T (i7-7700HQ/8GB/1TB/GeForce'\n",
      " '17-BS037cl (i3-6006U/8GB/1TB/W10)'\n",
      " 'V330-15IKB (i5-8250U/8GB/256GB/FHD/W10)' 'Aspire A715-71G'\n",
      " 'Precision 7720' 'IdeaPad 310-15ABR' 'ZenBook UX530UQ-PRO' 'VivoBook S14'\n",
      " 'Rog GL702VS-GC095T' 'GL553VE-FY082T (i7-7700HQ/8GB/1TB'\n",
      " 'IdeaPad 320-15IAP' 'EliteBook x360' 'IdeaPad 720S-13IKB' 'GE63VR 7RF'\n",
      " 'ES1-523-84K7 (A8-7410/8GB/256GB/FHD/W10)' 'VivoBook Flip' 'ThinkPad 13'\n",
      " 'ProBook 640' 'TravelMate B' 'Elitebook 840' 'ZenBook UX410UA-GV183T'\n",
      " 'Aspire E5-575' 'Elitebook 820' 'GL72M 7REX'\n",
      " 'UX510UX-CN269T (i7-7500U/8GB/256GB'\n",
      " 'V310-15ISK (i3-6006U/4GB/1TB/FHD/W10)'\n",
      " 'FX553VD-FY647T (i7-7700HQ/8GB/256GB/GeForce' 'Elitebook 850'\n",
      " 'X541NA (N3350/4GB/1TB/Linux)' 'Inspiron 3552' 'IdeaPad 320-15ABR'\n",
      " 'Stream 14-AX001nv' 'GP72MVR 7RFX' 'Zbook 15' 'Tecra A50-C-21G'\n",
      " 'Latitude 7480' 'Zenbook UX410UA-GV027T' '15-AY023na (N3710/8GB/2TB/W10)'\n",
      " 'Elitebook 1040' 'IdeaPad 110-17ACL'\n",
      " '15-bw003nv (A9-Series-9420/4GB/256GB/FHD/W10)' 'Yoga 11e'\n",
      " 'VivoBook E403NA' 'Omen 17-w212nv'\n",
      " 'V310-15ISK (i3-6006U/4GB/128GB/FHD/No' 'ROG Strix' 'IdeaPad 720S-14IKB'\n",
      " 'Zenbook Flip' 'Thinkpad X1' 'Ideapad 510S-13IKB' 'Precision 3510'\n",
      " 'Precision 5520' 'Rog GL753VD-GC042T' 'Rog GL753VE-GC070T'\n",
      " 'Leopard GP72M' '15-BW004nv (A9-9420/4GB/256GB/Radeon' 'ThinkPad E580'\n",
      " 'ThinkPad L470' 'Precision M5520' 'FX753VD-GC461T (i7-7700HQ/16GB/1TB'\n",
      " 'GE73VR 7RF' 'Zenbook 3' 'Portege Z30-C-16P' 'Lenovo IdeaPad'\n",
      " 'ThinkPad P51' 'Thinkpad T470p' '15-BS028nv (i3-6006U/4GB/1TB/Radeon'\n",
      " 'Latitude 3380' 'EliteBook 1040' 'LapBook 12.3' 'ProBook 650'\n",
      " 'X542UQ-DM117 (i3-7100U/8GB/1TB/GeForce' 'Latitude 5480' 'Omen 17-w207nv'\n",
      " 'FlexBook Edge' 'Chromebook 3' 'Thinkpad 13' 'IdeaPad 320s-14IKB'\n",
      " 'Thinkpad P51' '15-ra044nv (N3060/4GB/500GB/W10)' 'Pixelbook (Core'\n",
      " 'ThinkPad T470s' 'ThinkPad X270' 'Omen 15-AX205na' 'Aspire ES1-572'\n",
      " 'Precision 3520' 'GV62 7RD-1686NL' '15-bs024nv (i5-7200U/8GB/128GB/W10)'\n",
      " 'ThinkPad T470' 'Inspiron 3168' '17-BS092ND (i3-6006U/8GB/256GB/W10)'\n",
      " 'Pro P2540UA-AB51' 'IdeaPad 510s-14IKB'\n",
      " 'X541NA-PD1003Y (N4200/4GB/500GB/W10)' 'Omen 17-an006nv' 'Thinkpad T460s'\n",
      " 'Latitude 7390' 'Latitude E5470' 'Portege X30-D-10J' 'Lapbook 15,6'\n",
      " 'ThinkPad E570' 'Thinkpad X270' 'Zenbook UX390UA' 'Thinkpad E570'\n",
      " 'Portege X30-D-10L' 'Rog G752VL-UH71T' 'Thinkpad X260'\n",
      " 'Ideapad 520-15IKBR' 'ThinkPad L570' 'VivoBook E201NA'\n",
      " '15-BS026nv (i5-7200U/8GB/256GB/Radeon' 'IdeaPad 320-14IAP'\n",
      " 'Chromebook N23' 'ZenBook UX510UX-CN211T' 'Aspire A515-51G-59QF'\n",
      " 'Envy 13-AB002nv' 'Vostro 5568' 'VivoBook E12'\n",
      " '15-bs190od (i5-8250U/4GB/1TB/W10)' 'ROG Zephyrus' 'Probook 450'\n",
      " 'FX753VE-GC155T (i7-7700HQ/16GB/1TB' 'Spectre X360' 'Latitude 5580'\n",
      " 'Zenbook UX510UW-FI095T' 'SmartBook Edge' 'Omen 15-ce006nv'\n",
      " 'Thinkpad E470' 'Envy 13-AB020nr' 'VivoBook X540YA-XX519T'\n",
      " 'ThinkPad E470' 'V310-15ISK (i5-6200U/4GB/1TB/FHD/No' 'ThinkPad T570'\n",
      " '17-X047na (i3-6006U/8GB/1TB/W10)' 'A541NA-GO342 (N3350/4GB/500GB/Linux)'\n",
      " 'SmartBook 130' '15-bw007nv (A10-9620P/6GB/128GB/Radeon' 'Spin SP111-31'\n",
      " 'V330-15IKB (i3-7130U/4GB/128GB/FHD/W10)' 'EliteBook 1030' 'Thinkpad P71'\n",
      " 'FX553VD-DM627T (i5-7300HQ/8GB/1TB' 'Lifebook A557' 'ZBook 17'\n",
      " '14-am079na (N3710/8GB/2TB/W10)' '15-cd005nv (A9-9420/6GB/256GB/Radeon'\n",
      " 'V330-15IKB (i5-8250U/4GB/500GB/FHD/W10)' 'SmartBook 141'\n",
      " 'Tecra X40-D-10H' 'IdeaPad Y910-17ISK' 'GT73VR Titan' 'Chromebook 11'\n",
      " 'GT80S 6QE' 'Omen 17-AN010nv' 'Ideapad 320-15IKBR'\n",
      " 'TP501UA-CJ131T (i5-7200U/8GB/1TB/W10)' 'Inspiron 3179'\n",
      " 'Notebook Odyssey' 'V320-17ISK (i3-6006U/4GB/500GB/FHD/No'\n",
      " 'IdeaPad 110-15ISK' 'Latitude 5289' 'EliteBook 850' 'Aspire 1'\n",
      " 'Laptop MSI' 'GS63VR 7RF' 'Tecra Z50-C-144' 'IdeaPad 310-15IKB'\n",
      " 'Swift SF114-31-P5HY' 'Inspiron 7559' 'FX753VD-GC007T (i7-7700HQ/8GB/1TB'\n",
      " 'GT62VR 7RE' 'CB5-132T-C9KK (N3160/4GB/32GB/Chrome' 'LifeBook A557'\n",
      " 'SmartBook 140' 'Q304UA-BHI5T11 (i5-7200U/6GB/1TB/FHD/W10)' 'ZenBook 3'\n",
      " 'V330-15IKB (i5-8250U/4GB/256GB/FHD/W10)' 'Ideapad 320-15ISK'\n",
      " 'X541NA-GO414T (N3350/8GB/1TB/W10)' 'IdeaPad 100S-14IBR'\n",
      " '17-AK091ND (A9-9420/8GB/1TB/W10)' 'ROG GL553VE-FY022' 'Extensa EX2540'\n",
      " 'Portege Z30-C-16J' 'ROG G701VI'\n",
      " 'A715-71G-59DH (i5-7300HQ/8GB/1TB/GeForce' 'GL62M 7REX' 'Tecra A50-D-11M'\n",
      " 'IdeaPad Y700-15ISK' 'Latitude E7470' 'Ideapad 320-15IAP'\n",
      " '15-ay047nv (i3-6006U/6GB/1TB/Radeon' 'GP72VR Leopard' 'Latitude 3580'\n",
      " '15-bs012nv (i7-7500U/8GB/1TB/Radeon' 'Tecra Z50-D-10E'\n",
      " 'V310-15ISK (i5-7200U/8GB/1TB' 'Yoga 720-13IKB' 'Pavilion X360'\n",
      " 'GP62 7RDX' 'Chromebook X360' 'Gram 15Z975' 'Aspire VX5-591G' 'GV62M 7RD'\n",
      " 'L502NA-GO052T (N3350/4GB/128GB/W10)' 'Alienware 15' '17-bs000nv I3'\n",
      " 'Yoga 730' '17-Y002nv (A10-9600P/6GB/2TB/Radeon'\n",
      " 'V110-15ISK (3855U/4GB/500GB/W10)' 'Chromebook 14' 'IdeaPad 520s-14IKB'\n",
      " 'TravelMate B117-M' 'Chromebook Flip' 'Portege Z30T-C-133'\n",
      " '15-bs011nv (i7-7500U/4GB/500GB/Radeon'\n",
      " 'V310-15IKB (i5-7200U/4GB/1TB/FHD/W10)'\n",
      " 'V310-15ISK (i3-6006U/4GB/500GB/No' 'ThinkPad P51s' 'Thinkpad T460p'\n",
      " '17-ak002nv (A10-9620P/6GB/2TB/Radeon'\n",
      " '110-15ACL (A6-7310/4GB/500GB/W10)' 'Smartbook 142'\n",
      " 'V310-15IKB (i5-7200U/4GB/1TB/No' 'Inspiron 5378'\n",
      " '15-BW037na (A9-9420/4GB/1TB/Radeon' 'Predator 17'\n",
      " '15-BW091ND (A9-9420/6GB/1TB' 'Extensa EX2540-58KR'\n",
      " 'V310-15IKB (i7-7500U/4GB/1TB/FHD/W10)' 'ZBook 15' 'Inspiron 7560'\n",
      " 'Tecra X40-D-10G' 'Flex 5' 'Thinkpad P51s' 'Notebook 9' 'Zbook 17'\n",
      " 'N23 (N3060/4GB/128GB/W10)' 'X550VX-XX015D (i5-6300HQ/4GB/1TB/GeForce'\n",
      " 'Thinkpad T460' 'Pro P2540UA-XO0192R' 'Yoga 900-13ISK'\n",
      " '15-cb003na (i5-7300HQ/8GB/1TB' 'Latitude 7280' 'Zenbook UX330UA-AH5Q'\n",
      " 'TravelMate P238-M' 'X751NV-TY001 (N4200/4GB/1TB/GeForce'\n",
      " 'Tecra A40-C-1E5' 'EliteBook 820'\n",
      " 'Q524UQ-BHI7T15 (i7-7500U/12GB/2TB/GeForce' 'Thinkpad P50' 'Vivobook Max'\n",
      " 'Rog G752VS-BA171T' 'Tecra Z40-C-161' 'IdeaPad 110-15IBR' 'GS43VR 7RE'\n",
      " 'GL62M (i5-7300HQ/8GB/1TB' 'Predator G9-793'\n",
      " 'FX502VM-DM560T (i7-7700HQ/8GB/1TB' 'K146 (N3350/4GB/32GB/W10)'\n",
      " 'Yoga 510-15IKB' 'R417NA-RS01 (N3350/4GB/32GB/W10)' 'Pro P2540UA-XS51'\n",
      " 'Latitude 3180' '15-ba043na (A12-9700P/8GB/2TB/W10)' 'Omen 17-an012dx'\n",
      " 'Thinkpad T470s' 'Blade Stealth' 'Latitude 3480'\n",
      " 'V110-15ISK (i3-6006U/4GB/500GB/W10)' 'Tecra X40-D-10Z' 'GL62M 7RD'\n",
      " 'Rog GL702VS-BA023T' 'N42-20 Chromebook'\n",
      " 'R558UA-DM966T (i5-7200U/8GB/128GB/FHD/W10)' 'Rog GL702VM-GC017T'\n",
      " 'ZenBook UX310UQ-GL026T' 'Rog GL502VM-DS74' 'Inspiron 5767'\n",
      " 'ThinkPad T470p' 'K556UR-DM621T (i7-7500U/8GB/256GB/GeForce'\n",
      " 'X541NA (N4200/4GB/1TB/W10)' 'Inspiron 5368' 'Portege X30-D-10X'\n",
      " 'Portégé Z30-C-188' 'TMX349-G2-M-50FS (i5-7200U/8GB/256GB/FHD/W10)'\n",
      " 'Tecra A50-D-11D' 'X541NA-GO121 (N4200/4GB/1TB/Linux)' 'Pavilion x360'\n",
      " 'VivoBook L402NA' 'IdeaPad 510-15ISK' 'Rog GL753VD-GC082T'\n",
      " 'Chromebook C731-C78G' 'Probook 640' 'Envy x360' 'GS73VR Stealth'\n",
      " 'Portege X30-D-10V' 'G701VO-IH74K (i7-6820HK/32GB/2x' 'Gram 15Z970'\n",
      " 'Chromebook CB5-571-C1DZ' 'Gram 14Z970' 'Elitebook Folio'\n",
      " 'IdeaPad 510-15IKB' 'GE72VR 6RF' 'Envy 13-AB077cl' 'Tecra Z50-C-140'\n",
      " 'Probook 650' 'Tecra Z40-C-12X' 'GP62M Leopard' 'Omen 17-W006na'\n",
      " 'X751SV-TY001T (N3710/4GB/1TB/GeForce' 'TravelMate P259-G2'\n",
      " 'Tecra A50-C-1ZV' 'Yoga 700-11ISK' 'IdeaPad Y700-15ACZ' 'Insprion 5767'\n",
      " 'ZBook Studio' 'Portege Z30-C-1CW' 'ProBook x360' 'Chromebook C738T-C2EJ'\n",
      " 'Portege Z30-C-16Z' 'Aspire F5-573G-510L' 'Portege X20W-D-10V'\n",
      " 'Tecra A40-C-1DF' 'ThinkPad T460']\n"
     ]
    }
   ],
   "source": [
    "print(laptop['model name'].unique())"
   ]
  },
  {
   "cell_type": "code",
   "execution_count": 13,
   "metadata": {},
   "outputs": [
    {
     "name": "stdout",
     "output_type": "stream",
     "text": [
      "Notebook              549\n",
      "Ultrabook             152\n",
      "Gaming                150\n",
      "2 in 1 Convertible     85\n",
      "Workstation            24\n",
      "Netbook                17\n",
      "Name: category, dtype: int64\n",
      "['Ultrabook' 'Notebook' 'Netbook' 'Gaming' '2 in 1 Convertible'\n",
      " 'Workstation']\n"
     ]
    }
   ],
   "source": [
    "print(laptop['category'].value_counts())\n",
    "print(laptop['category'].unique())"
   ]
  },
  {
   "cell_type": "code",
   "execution_count": 16,
   "metadata": {},
   "outputs": [
    {
     "data": {
      "text/plain": [
       "array([13.3, 15.6, 15.4, 14. , 12. , 11.6, 17.3, 10.1, 13.5, 12.5, 13. ,\n",
       "       18.4, 13.9, 12.3, 17. , 15. , 14.1, 11.3])"
      ]
     },
     "execution_count": 16,
     "metadata": {},
     "output_type": "execute_result"
    }
   ],
   "source": [
    "laptop['screen size'].unique()"
   ]
  },
  {
   "cell_type": "code",
   "execution_count": 15,
   "metadata": {},
   "outputs": [
    {
     "data": {
      "text/html": [
       "<div>\n",
       "<style scoped>\n",
       "    .dataframe tbody tr th:only-of-type {\n",
       "        vertical-align: middle;\n",
       "    }\n",
       "\n",
       "    .dataframe tbody tr th {\n",
       "        vertical-align: top;\n",
       "    }\n",
       "\n",
       "    .dataframe thead th {\n",
       "        text-align: right;\n",
       "    }\n",
       "</style>\n",
       "<table border=\"1\" class=\"dataframe\">\n",
       "  <thead>\n",
       "    <tr style=\"text-align: right;\">\n",
       "      <th></th>\n",
       "      <th>manufacturer</th>\n",
       "      <th>model name</th>\n",
       "      <th>category</th>\n",
       "      <th>screen size</th>\n",
       "      <th>screen</th>\n",
       "      <th>cpu</th>\n",
       "      <th>ram</th>\n",
       "      <th>storage</th>\n",
       "      <th>gpu</th>\n",
       "      <th>operating system</th>\n",
       "      <th>operating system version</th>\n",
       "      <th>weight</th>\n",
       "      <th>price</th>\n",
       "    </tr>\n",
       "  </thead>\n",
       "  <tbody>\n",
       "    <tr>\n",
       "      <th>0</th>\n",
       "      <td>Apple</td>\n",
       "      <td>MacBook Pro</td>\n",
       "      <td>Ultrabook</td>\n",
       "      <td>13.3</td>\n",
       "      <td>IPS Panel Retina Display 2560x1600</td>\n",
       "      <td>Intel Core i5 2.3GHz</td>\n",
       "      <td>8GB</td>\n",
       "      <td>128GB SSD</td>\n",
       "      <td>Intel Iris Plus Graphics 640</td>\n",
       "      <td>macOS</td>\n",
       "      <td></td>\n",
       "      <td>1.37kg</td>\n",
       "      <td>11912523.48</td>\n",
       "    </tr>\n",
       "    <tr>\n",
       "      <th>1</th>\n",
       "      <td>Apple</td>\n",
       "      <td>Macbook Air</td>\n",
       "      <td>Ultrabook</td>\n",
       "      <td>13.3</td>\n",
       "      <td>1440x900</td>\n",
       "      <td>Intel Core i5 1.8GHz</td>\n",
       "      <td>8GB</td>\n",
       "      <td>128GB Flash Storage</td>\n",
       "      <td>Intel HD Graphics 6000</td>\n",
       "      <td>macOS</td>\n",
       "      <td></td>\n",
       "      <td>1.34kg</td>\n",
       "      <td>7993374.48</td>\n",
       "    </tr>\n",
       "    <tr>\n",
       "      <th>2</th>\n",
       "      <td>HP</td>\n",
       "      <td>250 G6</td>\n",
       "      <td>Notebook</td>\n",
       "      <td>15.6</td>\n",
       "      <td>Full HD 1920x1080</td>\n",
       "      <td>Intel Core i5 7200U 2.5GHz</td>\n",
       "      <td>8GB</td>\n",
       "      <td>256GB SSD</td>\n",
       "      <td>Intel HD Graphics 620</td>\n",
       "      <td>No OS</td>\n",
       "      <td></td>\n",
       "      <td>1.86kg</td>\n",
       "      <td>5112900.00</td>\n",
       "    </tr>\n",
       "    <tr>\n",
       "      <th>3</th>\n",
       "      <td>Apple</td>\n",
       "      <td>MacBook Pro</td>\n",
       "      <td>Ultrabook</td>\n",
       "      <td>15.4</td>\n",
       "      <td>IPS Panel Retina Display 2880x1800</td>\n",
       "      <td>Intel Core i7 2.7GHz</td>\n",
       "      <td>16GB</td>\n",
       "      <td>512GB SSD</td>\n",
       "      <td>AMD Radeon Pro 455</td>\n",
       "      <td>macOS</td>\n",
       "      <td></td>\n",
       "      <td>1.83kg</td>\n",
       "      <td>22563005.40</td>\n",
       "    </tr>\n",
       "    <tr>\n",
       "      <th>4</th>\n",
       "      <td>Apple</td>\n",
       "      <td>MacBook Pro</td>\n",
       "      <td>Ultrabook</td>\n",
       "      <td>13.3</td>\n",
       "      <td>IPS Panel Retina Display 2560x1600</td>\n",
       "      <td>Intel Core i5 3.1GHz</td>\n",
       "      <td>8GB</td>\n",
       "      <td>256GB SSD</td>\n",
       "      <td>Intel Iris Plus Graphics 650</td>\n",
       "      <td>macOS</td>\n",
       "      <td></td>\n",
       "      <td>1.37kg</td>\n",
       "      <td>16037611.20</td>\n",
       "    </tr>\n",
       "    <tr>\n",
       "      <th>...</th>\n",
       "      <td>...</td>\n",
       "      <td>...</td>\n",
       "      <td>...</td>\n",
       "      <td>...</td>\n",
       "      <td>...</td>\n",
       "      <td>...</td>\n",
       "      <td>...</td>\n",
       "      <td>...</td>\n",
       "      <td>...</td>\n",
       "      <td>...</td>\n",
       "      <td>...</td>\n",
       "      <td>...</td>\n",
       "      <td>...</td>\n",
       "    </tr>\n",
       "    <tr>\n",
       "      <th>972</th>\n",
       "      <td>Dell</td>\n",
       "      <td>Alienware 17</td>\n",
       "      <td>Gaming</td>\n",
       "      <td>17.3</td>\n",
       "      <td>Full HD 1920x1080</td>\n",
       "      <td>Intel Core i7 6700HQ 2.6GHz</td>\n",
       "      <td>32GB</td>\n",
       "      <td>256GB SSD +  1TB HDD</td>\n",
       "      <td>Nvidia GeForce GTX 1070</td>\n",
       "      <td>Windows</td>\n",
       "      <td>10</td>\n",
       "      <td>4.42kg</td>\n",
       "      <td>24897600.00</td>\n",
       "    </tr>\n",
       "    <tr>\n",
       "      <th>973</th>\n",
       "      <td>Toshiba</td>\n",
       "      <td>Tecra A40-C-1DF</td>\n",
       "      <td>Notebook</td>\n",
       "      <td>14.0</td>\n",
       "      <td>Full HD 1920x1080</td>\n",
       "      <td>Intel Core i5 6200U 2.3GHz</td>\n",
       "      <td>8GB</td>\n",
       "      <td>256GB SSD</td>\n",
       "      <td>Intel HD Graphics 520</td>\n",
       "      <td>Windows</td>\n",
       "      <td>10</td>\n",
       "      <td>1.95kg</td>\n",
       "      <td>10492560.00</td>\n",
       "    </tr>\n",
       "    <tr>\n",
       "      <th>974</th>\n",
       "      <td>Asus</td>\n",
       "      <td>Rog Strix</td>\n",
       "      <td>Gaming</td>\n",
       "      <td>17.3</td>\n",
       "      <td>Full HD 1920x1080</td>\n",
       "      <td>Intel Core i7 7700HQ 2.8GHz</td>\n",
       "      <td>16GB</td>\n",
       "      <td>256GB SSD +  1TB HDD</td>\n",
       "      <td>Nvidia GeForce GTX 1060</td>\n",
       "      <td>Windows</td>\n",
       "      <td>10</td>\n",
       "      <td>2.73kg</td>\n",
       "      <td>18227710.80</td>\n",
       "    </tr>\n",
       "    <tr>\n",
       "      <th>975</th>\n",
       "      <td>HP</td>\n",
       "      <td>Probook 450</td>\n",
       "      <td>Notebook</td>\n",
       "      <td>15.6</td>\n",
       "      <td>IPS Panel Full HD 1920x1080</td>\n",
       "      <td>Intel Core i5 7200U 2.70GHz</td>\n",
       "      <td>8GB</td>\n",
       "      <td>128GB SSD +  1TB HDD</td>\n",
       "      <td>Nvidia GeForce 930MX</td>\n",
       "      <td>Windows</td>\n",
       "      <td>10</td>\n",
       "      <td>2.04kg</td>\n",
       "      <td>8705268.00</td>\n",
       "    </tr>\n",
       "    <tr>\n",
       "      <th>976</th>\n",
       "      <td>Lenovo</td>\n",
       "      <td>ThinkPad T460</td>\n",
       "      <td>Notebook</td>\n",
       "      <td>14.0</td>\n",
       "      <td>1366x768</td>\n",
       "      <td>Intel Core i5 6200U 2.3GHz</td>\n",
       "      <td>4GB</td>\n",
       "      <td>508GB Hybrid</td>\n",
       "      <td>Intel HD Graphics 520</td>\n",
       "      <td>Windows</td>\n",
       "      <td>7</td>\n",
       "      <td>1.70kg</td>\n",
       "      <td>8909784.00</td>\n",
       "    </tr>\n",
       "  </tbody>\n",
       "</table>\n",
       "<p>977 rows × 13 columns</p>\n",
       "</div>"
      ],
      "text/plain": [
       "    manufacturer       model name   category  screen size  \\\n",
       "0          Apple      MacBook Pro  Ultrabook         13.3   \n",
       "1          Apple      Macbook Air  Ultrabook         13.3   \n",
       "2             HP           250 G6   Notebook         15.6   \n",
       "3          Apple      MacBook Pro  Ultrabook         15.4   \n",
       "4          Apple      MacBook Pro  Ultrabook         13.3   \n",
       "..           ...              ...        ...          ...   \n",
       "972         Dell     Alienware 17     Gaming         17.3   \n",
       "973      Toshiba  Tecra A40-C-1DF   Notebook         14.0   \n",
       "974         Asus        Rog Strix     Gaming         17.3   \n",
       "975           HP      Probook 450   Notebook         15.6   \n",
       "976       Lenovo    ThinkPad T460   Notebook         14.0   \n",
       "\n",
       "                                 screen                          cpu   ram  \\\n",
       "0    IPS Panel Retina Display 2560x1600         Intel Core i5 2.3GHz   8GB   \n",
       "1                              1440x900         Intel Core i5 1.8GHz   8GB   \n",
       "2                     Full HD 1920x1080   Intel Core i5 7200U 2.5GHz   8GB   \n",
       "3    IPS Panel Retina Display 2880x1800         Intel Core i7 2.7GHz  16GB   \n",
       "4    IPS Panel Retina Display 2560x1600         Intel Core i5 3.1GHz   8GB   \n",
       "..                                  ...                          ...   ...   \n",
       "972                   Full HD 1920x1080  Intel Core i7 6700HQ 2.6GHz  32GB   \n",
       "973                   Full HD 1920x1080   Intel Core i5 6200U 2.3GHz   8GB   \n",
       "974                   Full HD 1920x1080  Intel Core i7 7700HQ 2.8GHz  16GB   \n",
       "975         IPS Panel Full HD 1920x1080  Intel Core i5 7200U 2.70GHz   8GB   \n",
       "976                            1366x768   Intel Core i5 6200U 2.3GHz   4GB   \n",
       "\n",
       "                  storage                           gpu operating system  \\\n",
       "0               128GB SSD  Intel Iris Plus Graphics 640            macOS   \n",
       "1     128GB Flash Storage        Intel HD Graphics 6000            macOS   \n",
       "2               256GB SSD         Intel HD Graphics 620            No OS   \n",
       "3               512GB SSD            AMD Radeon Pro 455            macOS   \n",
       "4               256GB SSD  Intel Iris Plus Graphics 650            macOS   \n",
       "..                    ...                           ...              ...   \n",
       "972  256GB SSD +  1TB HDD       Nvidia GeForce GTX 1070          Windows   \n",
       "973             256GB SSD         Intel HD Graphics 520          Windows   \n",
       "974  256GB SSD +  1TB HDD       Nvidia GeForce GTX 1060          Windows   \n",
       "975  128GB SSD +  1TB HDD          Nvidia GeForce 930MX          Windows   \n",
       "976          508GB Hybrid         Intel HD Graphics 520          Windows   \n",
       "\n",
       "    operating system version  weight        price  \n",
       "0                             1.37kg  11912523.48  \n",
       "1                             1.34kg   7993374.48  \n",
       "2                             1.86kg   5112900.00  \n",
       "3                             1.83kg  22563005.40  \n",
       "4                             1.37kg  16037611.20  \n",
       "..                       ...     ...          ...  \n",
       "972                       10  4.42kg  24897600.00  \n",
       "973                       10  1.95kg  10492560.00  \n",
       "974                       10  2.73kg  18227710.80  \n",
       "975                       10  2.04kg   8705268.00  \n",
       "976                        7  1.70kg   8909784.00  \n",
       "\n",
       "[977 rows x 13 columns]"
      ]
     },
     "execution_count": 15,
     "metadata": {},
     "output_type": "execute_result"
    }
   ],
   "source": [
    "laptop['screen size'] = laptop['screen size'].str.replace('\"', '')\n",
    "laptop['screen size'] = laptop['screen size'].astype('float64')\n",
    "laptop"
   ]
  },
  {
   "cell_type": "code",
   "execution_count": 17,
   "metadata": {},
   "outputs": [
    {
     "data": {
      "text/plain": [
       "Full HD 1920x1080                                397\n",
       "IPS Panel Full HD 1920x1080                      181\n",
       "1366x768                                         180\n",
       "Full HD / Touchscreen 1920x1080                   38\n",
       "IPS Panel Full HD / Touchscreen 1920x1080         35\n",
       "1600x900                                          19\n",
       "Touchscreen 1366x768                              15\n",
       "IPS Panel 4K Ultra HD / Touchscreen 3840x2160     11\n",
       "IPS Panel 4K Ultra HD 3840x2160                   10\n",
       "4K Ultra HD / Touchscreen 3840x2160                9\n",
       "Quad HD+ / Touchscreen 3200x1800                   8\n",
       "IPS Panel 1366x768                                 7\n",
       "IPS Panel Retina Display 2560x1600                 6\n",
       "Touchscreen 2256x1504                              6\n",
       "Touchscreen 2560x1440                              5\n",
       "4K Ultra HD 3840x2160                              5\n",
       "1440x900                                           4\n",
       "IPS Panel Retina Display 2880x1800                 4\n",
       "IPS Panel 2560x1440                                3\n",
       "IPS Panel Quad HD+ / Touchscreen 3200x1800         3\n",
       "IPS Panel Quad HD+ 2560x1440                       3\n",
       "Touchscreen 2400x1600                              3\n",
       "IPS Panel Touchscreen 1366x768                     3\n",
       "1920x1080                                          3\n",
       "IPS Panel Retina Display 2304x1440                 3\n",
       "2560x1440                                          2\n",
       "IPS Panel Quad HD+ 3200x1800                       2\n",
       "IPS Panel Full HD 2160x1440                        2\n",
       "IPS Panel Touchscreen / 4K Ultra HD 3840x2160      1\n",
       "IPS Panel Full HD 1920x1200                        1\n",
       "Touchscreen / Full HD 1920x1080                    1\n",
       "IPS Panel Touchscreen 2560x1440                    1\n",
       "IPS Panel Retina Display 2736x1824                 1\n",
       "IPS Panel Touchscreen 1920x1200                    1\n",
       "IPS Panel Full HD 2560x1440                        1\n",
       "IPS Panel Full HD 1366x768                         1\n",
       "Touchscreen / Quad HD+ 3200x1800                   1\n",
       "Quad HD+ 3200x1800                                 1\n",
       "Name: screen, dtype: int64"
      ]
     },
     "execution_count": 17,
     "metadata": {},
     "output_type": "execute_result"
    }
   ],
   "source": [
    "laptop['screen'].value_counts()"
   ]
  },
  {
   "cell_type": "code",
   "execution_count": 18,
   "metadata": {},
   "outputs": [
    {
     "data": {
      "text/plain": [
       "0      2560x1600\n",
       "1       1440x900\n",
       "2      1920x1080\n",
       "3      2880x1800\n",
       "4      2560x1600\n",
       "         ...    \n",
       "972    1920x1080\n",
       "973    1920x1080\n",
       "974    1920x1080\n",
       "975    1920x1080\n",
       "976     1366x768\n",
       "Name: resolution, Length: 977, dtype: object"
      ]
     },
     "execution_count": 18,
     "metadata": {},
     "output_type": "execute_result"
    }
   ],
   "source": [
    "laptop['resolution'] = laptop['screen'].str.extract(r'(\\d+x\\d+)')\n",
    "laptop['resolution']"
   ]
  },
  {
   "cell_type": "code",
   "execution_count": 19,
   "metadata": {},
   "outputs": [
    {
     "data": {
      "text/plain": [
       "0      IPS Panel Retina Display \n",
       "1                               \n",
       "2                               \n",
       "3      IPS Panel Retina Display \n",
       "4      IPS Panel Retina Display \n",
       "                 ...            \n",
       "972                             \n",
       "973                             \n",
       "974                             \n",
       "975                  IPS Panel  \n",
       "976                             \n",
       "Name: screentype, Length: 977, dtype: object"
      ]
     },
     "execution_count": 19,
     "metadata": {},
     "output_type": "execute_result"
    }
   ],
   "source": [
    "laptop['screentype'] = laptop['screen'].replace(r'(\\d+x\\d+)', '', regex=True)\n",
    "laptop['screentype'] = laptop['screentype'].replace(r'Full HD|Quad HD|Quad HD|\\+|/|4K Ultra HD', \"\", regex=True)\n",
    "laptop['screentype']"
   ]
  },
  {
   "cell_type": "code",
   "execution_count": 20,
   "metadata": {},
   "outputs": [
    {
     "data": {
      "text/plain": [
       "0      NaN\n",
       "1      NaN\n",
       "2      NaN\n",
       "3      NaN\n",
       "4      NaN\n",
       "      ... \n",
       "972    NaN\n",
       "973    NaN\n",
       "974    NaN\n",
       "975    NaN\n",
       "976    NaN\n",
       "Name: touchscreen, Length: 977, dtype: object"
      ]
     },
     "execution_count": 20,
     "metadata": {},
     "output_type": "execute_result"
    }
   ],
   "source": [
    "laptop['touchscreen'] = laptop['screentype'].str.extract(r'(Touchscreen)')\n",
    "laptop['screentype'] = laptop['screentype'].replace(r'(Touchscreen)', \"\", regex=True)\n",
    "laptop['touchscreen']"
   ]
  },
  {
   "cell_type": "code",
   "execution_count": 21,
   "metadata": {},
   "outputs": [
    {
     "data": {
      "text/plain": [
       "                         697\n",
       "IPSPanel                 266\n",
       "IPSPanelRetinaDisplay     14\n",
       "Name: screentype, dtype: int64"
      ]
     },
     "execution_count": 21,
     "metadata": {},
     "output_type": "execute_result"
    }
   ],
   "source": [
    "laptop['screentype'] = laptop['screentype'].replace(r' ', \"\", regex=True)\n",
    "laptop['screentype'].value_counts()"
   ]
  },
  {
   "cell_type": "code",
   "execution_count": 22,
   "metadata": {},
   "outputs": [
    {
     "data": {
      "text/plain": [
       "IPSPanel                 266\n",
       "IPSPanelRetinaDisplay     14\n",
       "Name: screentype, dtype: int64"
      ]
     },
     "execution_count": 22,
     "metadata": {},
     "output_type": "execute_result"
    }
   ],
   "source": [
    "laptop['screentype'] = laptop['screentype'].replace(r'^\\s*$', np.nan, regex=True)\n",
    "laptop['screentype'].value_counts()"
   ]
  },
  {
   "cell_type": "code",
   "execution_count": 23,
   "metadata": {},
   "outputs": [
    {
     "data": {
      "text/plain": [
       "0.0    836\n",
       "1.0    141\n",
       "Name: touchscreen, dtype: int64"
      ]
     },
     "execution_count": 23,
     "metadata": {},
     "output_type": "execute_result"
    }
   ],
   "source": [
    "laptop['touchscreen'] = laptop['touchscreen'].replace('Touchscreen', 1.0)\n",
    "laptop['touchscreen'] = laptop['touchscreen'].replace(np.nan, 0)\n",
    "laptop['touchscreen'].value_counts()"
   ]
  },
  {
   "cell_type": "code",
   "execution_count": 24,
   "metadata": {},
   "outputs": [
    {
     "data": {
      "text/plain": [
       "1920x1080    655\n",
       "1366x768     206\n",
       "3840x2160     36\n",
       "1600x900      19\n",
       "3200x1800     15\n",
       "2560x1440     15\n",
       "2560x1600      6\n",
       "2256x1504      6\n",
       "1440x900       4\n",
       "2880x1800      4\n",
       "2304x1440      3\n",
       "2400x1600      3\n",
       "1920x1200      2\n",
       "2160x1440      2\n",
       "2736x1824      1\n",
       "Name: resolution, dtype: int64"
      ]
     },
     "execution_count": 24,
     "metadata": {},
     "output_type": "execute_result"
    }
   ],
   "source": [
    "laptop['resolution'].value_counts()"
   ]
  },
  {
   "cell_type": "code",
   "execution_count": null,
   "metadata": {},
   "outputs": [],
   "source": [
    "laptop"
   ]
  },
  {
   "cell_type": "code",
   "execution_count": null,
   "metadata": {},
   "outputs": [],
   "source": [
    "laptop = laptop.drop('screen', axis=1)\n",
    "\n",
    "laptop"
   ]
  },
  {
   "cell_type": "code",
   "execution_count": null,
   "metadata": {},
   "outputs": [],
   "source": [
    "laptop['cpu']"
   ]
  },
  {
   "cell_type": "code",
   "execution_count": null,
   "metadata": {},
   "outputs": [],
   "source": [
    "laptop['cpu name'] = laptop['cpu'].str.rsplit(' ', n=1).str[0]\n",
    "laptop['cpu speed'] = laptop['cpu'].str.rsplit(' ', n=1).str[-1]\n",
    "\n",
    "laptop"
   ]
  },
  {
   "cell_type": "code",
   "execution_count": null,
   "metadata": {},
   "outputs": [],
   "source": [
    "laptop['cpu speed'] = laptop['cpu speed'].str.replace('GHz', '')\n",
    "laptop['cpu speed'] = laptop['cpu speed'].astype('float')"
   ]
  },
  {
   "cell_type": "code",
   "execution_count": null,
   "metadata": {},
   "outputs": [],
   "source": [
    "laptop"
   ]
  },
  {
   "cell_type": "code",
   "execution_count": null,
   "metadata": {},
   "outputs": [],
   "source": [
    "laptop['cpu name'].unique()"
   ]
  },
  {
   "cell_type": "code",
   "execution_count": null,
   "metadata": {},
   "outputs": [],
   "source": [
    "laptop['cpu brand'] = laptop['cpu name'].str.rsplit(' ', n=0).str[0]\n",
    "\n",
    "laptop"
   ]
  },
  {
   "cell_type": "code",
   "execution_count": null,
   "metadata": {},
   "outputs": [],
   "source": [
    "laptop['cpu brand'].value_counts()"
   ]
  },
  {
   "cell_type": "code",
   "execution_count": null,
   "metadata": {},
   "outputs": [],
   "source": [
    "laptop['ram'] = laptop['ram'].str.replace('GB', '')\n",
    "laptop['ram'].astype('int64')\n",
    "laptop"
   ]
  },
  {
   "cell_type": "code",
   "execution_count": null,
   "metadata": {},
   "outputs": [],
   "source": [
    "laptop['storage']"
   ]
  },
  {
   "cell_type": "code",
   "execution_count": null,
   "metadata": {},
   "outputs": [],
   "source": [
    "laptop[['storage_1', 'storage_2']] = laptop['storage'].str.split(' + ', n=1, expand=True)\n",
    "\n",
    "laptop"
   ]
  },
  {
   "cell_type": "code",
   "execution_count": null,
   "metadata": {},
   "outputs": [],
   "source": [
    "laptop['storage_1'] = laptop['storage_1'].str.replace('+', ' ')\n",
    "\n",
    "laptop"
   ]
  },
  {
   "cell_type": "code",
   "execution_count": null,
   "metadata": {},
   "outputs": [],
   "source": [
    "laptop['storage_1']"
   ]
  },
  {
   "cell_type": "code",
   "execution_count": null,
   "metadata": {},
   "outputs": [],
   "source": [
    "laptop['storage_1'] = laptop['storage_1'].str.replace('1.0TB', '1TB', regex=True)\n",
    "laptop['storage_1'] = laptop['storage_1'].str.replace('1TB', '1000GB')\n",
    "laptop['storage_1'] = laptop['storage_1'].str.replace('2TB', '2000GB')\n",
    "laptop['storage_1'] = laptop['storage_1'].str.replace(\"GB\", \"\")\n",
    "laptop['storage_1'].value_counts()"
   ]
  },
  {
   "cell_type": "code",
   "execution_count": null,
   "metadata": {},
   "outputs": [],
   "source": [
    "laptop[['storage_1', 'storage_1_type']] = laptop['storage_1'].str.split(' ', 1, expand=True)\n",
    "\n",
    "laptop"
   ]
  },
  {
   "cell_type": "code",
   "execution_count": null,
   "metadata": {},
   "outputs": [],
   "source": [
    "laptop['storage_2'] = laptop['storage_2'].str.replace('1.0TB', '1TB', regex=True)\n",
    "laptop['storage_2'] = laptop['storage_2'].str.replace('1TB', '1000GB')\n",
    "laptop['storage_2'] = laptop['storage_2'].str.replace('2TB', '2000GB')\n",
    "laptop['storage_2'] = laptop['storage_2'].str.replace(\"GB\", \"\")\n",
    "\n",
    "laptop[['storage_2', 'storage_2_type']] = laptop['storage_2'].str.split(' ', 1, expand=True)\n",
    "\n",
    "laptop"
   ]
  },
  {
   "cell_type": "code",
   "execution_count": null,
   "metadata": {},
   "outputs": [],
   "source": [
    "laptop['storage_1'] = laptop['storage_1'].astype('float')\n",
    "laptop['storage_2'] = laptop['storage_2'].astype('float')\n",
    "\n",
    "laptop"
   ]
  },
  {
   "cell_type": "code",
   "execution_count": null,
   "metadata": {},
   "outputs": [],
   "source": [
    "laptop['storage_2'] = laptop['storage_2'].fillna(0.0)\n",
    "laptop['storage_2_type'] = laptop['storage_2_type'].fillna(np.nan)\n",
    "laptop"
   ]
  },
  {
   "cell_type": "code",
   "execution_count": null,
   "metadata": {},
   "outputs": [],
   "source": [
    "laptop['gpu name'] = laptop['gpu'].str.extract(r'^(\\w+)')\n",
    "laptop['gpu name'].value_counts()"
   ]
  },
  {
   "cell_type": "code",
   "execution_count": null,
   "metadata": {},
   "outputs": [],
   "source": [
    "laptop"
   ]
  },
  {
   "cell_type": "code",
   "execution_count": null,
   "metadata": {},
   "outputs": [],
   "source": [
    "laptop['operating system version'].fillna('', inplace=True)"
   ]
  },
  {
   "cell_type": "code",
   "execution_count": null,
   "metadata": {},
   "outputs": [],
   "source": [
    "laptop['os version'] = laptop['operating system'] + ' ' + laptop['operating system version']\n",
    "laptop['operating system version'] = laptop['os version']\n",
    "laptop"
   ]
  },
  {
   "cell_type": "code",
   "execution_count": null,
   "metadata": {},
   "outputs": [],
   "source": [
    "laptop['weight'] = laptop['weight'].str.replace('kg', '')\n",
    "laptop ['weight'] = laptop['weight'].astype('float')"
   ]
  },
  {
   "cell_type": "code",
   "execution_count": null,
   "metadata": {},
   "outputs": [],
   "source": [
    "laptop.columns"
   ]
  },
  {
   "cell_type": "code",
   "execution_count": null,
   "metadata": {},
   "outputs": [],
   "source": [
    "laptop = laptop.drop(['cpu', 'storage', 'cpu', 'os version'], axis = 1)\n",
    "\n",
    "laptop"
   ]
  },
  {
   "cell_type": "code",
   "execution_count": null,
   "metadata": {},
   "outputs": [],
   "source": [
    "laptop = laptop.rename(columns = {'manufacturer': 'company', 'model name': 'product', 'screen size': 'screen(pixel)', 'ram': 'ram(GB)', 'weight': 'weigth(kg)', 'operating system': 'os', 'operating system version': 'os_version', 'cpu name': 'cpu_name', 'cpu speed': 'cpu_speed(GHz)', 'cpu brand': 'cpu_brand', 'storage_1': 'storage_1(GB)', 'storage_2': 'storage_2(GB)', 'gpu name': 'gpu_name'})\n",
    "\n",
    "laptop.columns"
   ]
  },
  {
   "cell_type": "code",
   "execution_count": null,
   "metadata": {},
   "outputs": [],
   "source": [
    "laptop"
   ]
  },
  {
   "cell_type": "code",
   "execution_count": null,
   "metadata": {},
   "outputs": [],
   "source": [
    "laptop.info()"
   ]
  },
  {
   "cell_type": "code",
   "execution_count": null,
   "metadata": {},
   "outputs": [],
   "source": [
    "laptop['ram(GB)'] = laptop['ram(GB)'].astype('int')\n",
    "\n",
    "laptop.describe()"
   ]
  },
  {
   "cell_type": "code",
   "execution_count": null,
   "metadata": {},
   "outputs": [],
   "source": [
    "laptop.to_csv('laptop_clean.csv', index=False)"
   ]
  }
 ],
 "metadata": {
  "kernelspec": {
   "display_name": "Python 3",
   "language": "python",
   "name": "python3"
  },
  "language_info": {
   "codemirror_mode": {
    "name": "ipython",
    "version": 3
   },
   "file_extension": ".py",
   "mimetype": "text/x-python",
   "name": "python",
   "nbconvert_exporter": "python",
   "pygments_lexer": "ipython3",
   "version": "3.9.12"
  },
  "orig_nbformat": 4
 },
 "nbformat": 4,
 "nbformat_minor": 2
}
