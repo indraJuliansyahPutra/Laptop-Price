{
 "cells": [
  {
   "cell_type": "code",
   "execution_count": null,
   "metadata": {},
   "outputs": [],
   "source": [
    "import pandas as pd\n",
    "import numpy as np\n",
    "import matplotlib.pyplot as plt\n",
    "import seaborn as sns\n",
    "\n",
    "from scipy import stats\n",
    "\n",
    "import regex as re\n",
    "from sklearn.preprocessing import LabelEncoder\n",
    "from sklearn.preprocessing import StandardScaler\n",
    "from sklearn.model_selection import train_test_split\n",
    "from sklearn.decomposition import PCA\n",
    "\n",
    "#import xgboost\n",
    "#from xgboost import XGBRegressor\n",
    "from sklearn.ensemble import RandomForestRegressor\n",
    "\n",
    "import optuna\n",
    "\n",
    "import warnings\n",
    "warnings.filterwarnings(\"ignore\")\n",
    "import random\n",
    "\n",
    "from sklearn.metrics import mean_squared_error\n",
    "from sklearn.metrics import r2_score\n",
    "\n",
    "import plotly.express as px"
   ]
  },
  {
   "cell_type": "code",
   "execution_count": null,
   "metadata": {},
   "outputs": [],
   "source": [
    "sns.set_style(\"whitegrid\")\n",
    "sns.despine()\n",
    "plt.style.use(\"seaborn-whitegrid\")\n",
    "plt.rc(\"figure\", autolayout=True)\n",
    "plt.rc(\"axes\", labelweight=\"bold\", labelsize=\"large\", titleweight=\"bold\", titlesize=14, titlepad=10)\n",
    "\n",
    "seed=42"
   ]
  },
  {
   "cell_type": "code",
   "execution_count": null,
   "metadata": {},
   "outputs": [],
   "source": [
    "laptop = pd.read_csv('laptop_clean.csv')\n",
    "\n",
    "laptop"
   ]
  },
  {
   "cell_type": "code",
   "execution_count": null,
   "metadata": {},
   "outputs": [],
   "source": [
    "laptop.info()"
   ]
  },
  {
   "cell_type": "code",
   "execution_count": null,
   "metadata": {},
   "outputs": [],
   "source": [
    "print(laptop.company)\n",
    "print(\"\")\n",
    "print(laptop.company.unique())\n",
    "print(\"\")\n",
    "print(laptop.company.value_counts())"
   ]
  },
  {
   "cell_type": "code",
   "execution_count": null,
   "metadata": {},
   "outputs": [],
   "source": [
    "jumlah_company = laptop['company'].value_counts()\n",
    "\n",
    "colors = ['#'+''.join(random.choices('0123456789ABCDEF', k=6)) for _ in range(len(jumlah_company))]\n",
    "\n",
    "plt.figure(figsize=(12, 8))\n",
    "ax = jumlah_company.plot(kind='bar', color = colors)\n",
    "plt.title(\"Distribusi Produk Berdasarkan Perusahaan\")\n",
    "plt.xlabel('Company')\n",
    "plt.ylabel('Jumlah')\n",
    "plt.xticks(rotation=45)\n",
    "\n",
    "for p in ax.patches:\n",
    "    ax.annotate(str(p.get_height()), (p.get_x() + p.get_width() / 2, p.get_height()), ha='center', va='bottom')\n",
    "\n",
    "plt.show()"
   ]
  },
  {
   "cell_type": "code",
   "execution_count": null,
   "metadata": {},
   "outputs": [],
   "source": [
    "grouped_company = laptop.groupby('company').size().reset_index(name='counts')\n",
    "grouped_company = grouped_company.sort_values(by='counts', ascending=False)\n",
    "\n",
    "fig = px.bar(grouped_company, x='company', y='counts', color='company', labels={'counts':'Jumlah Laptop'}, title=\"Jumlah Laptop berdasarkan Perusahaan\")\n",
    "fig.show()"
   ]
  },
  {
   "cell_type": "code",
   "execution_count": null,
   "metadata": {},
   "outputs": [],
   "source": [
    "laptop.info()"
   ]
  },
  {
   "cell_type": "code",
   "execution_count": null,
   "metadata": {},
   "outputs": [],
   "source": [
    "jumlah_kategori = laptop['category'].value_counts()\n",
    "\n",
    "colors = sns.color_palette('Set1', len(jumlah_kategori))\n",
    "\n",
    "plt.figure(figsize=(12, 8))\n",
    "ax = jumlah_kategori.plot(kind='bar', color=colors)\n",
    "plt.title('Distribusi Laptop Berdasarkan Kategori/Tipe Laptop')\n",
    "plt.xlabel('Kategori')\n",
    "plt.ylabel('Jumlah Laptop')\n",
    "plt.xticks(rotation=0)\n",
    "\n",
    "for p in ax.patches:\n",
    "    ax.annotate(str(p.get_height()), (p.get_x() + p.get_width() / 2, p.get_height()), ha='center', va='bottom')\n",
    "\n",
    "plt.show()"
   ]
  },
  {
   "cell_type": "code",
   "execution_count": null,
   "metadata": {},
   "outputs": [],
   "source": [
    "grouped_kategori = laptop.groupby('category').size().reset_index(name='counts')\n",
    "grouped_kategori = grouped_kategori.sort_values(by='counts', ascending=False)\n",
    "\n",
    "fig = px.bar(grouped_kategori, x = 'category', y = 'counts', color = 'category', labels={'counts': 'Jumlah Laptop'}, title=\"Jumlah Laptop Berdasarkan Kategori/Tipe Laptop\")\n",
    "fig.show()"
   ]
  },
  {
   "cell_type": "code",
   "execution_count": null,
   "metadata": {},
   "outputs": [],
   "source": [
    "laptop['screen(pixel)'] = laptop['screen(pixel)'].astype('str')\n",
    "\n",
    "laptop['screen(pixel)'].unique()"
   ]
  },
  {
   "cell_type": "code",
   "execution_count": null,
   "metadata": {},
   "outputs": [],
   "source": [
    "jumlah_screen = laptop['screen(pixel)'].value_counts()\n",
    "jumlah_screen = jumlah_screen.sort_index()\n",
    "\n",
    "colors = sns.color_palette('Set1', len(jumlah_screen))\n",
    "\n",
    "plt.figure(figsize=(10, 6))\n",
    "plt.bar(jumlah_screen.index, jumlah_screen.values, color = colors)\n",
    "plt.title(\"Distribusi Laptop Berdasarkan Ukuran Layar\")\n",
    "plt.xlabel('Ukuran Layar (inch)')\n",
    "plt.ylabel('Jumlah Laptop')\n",
    "\n",
    "plt.show()"
   ]
  },
  {
   "cell_type": "code",
   "execution_count": null,
   "metadata": {},
   "outputs": [],
   "source": [
    "laptop['ram(GB)'].value_counts()"
   ]
  },
  {
   "cell_type": "code",
   "execution_count": null,
   "metadata": {},
   "outputs": [],
   "source": [
    "x = laptop['ram(GB)']\n",
    "y = laptop['price']\n",
    "\n",
    "plt.figure(figsize=(10, 6))\n",
    "plt.scatter(x, y)\n",
    "plt.title('Korelasi Antara RAM(GB) dengan Harga')\n",
    "plt.xlabel('RAM (GB)')\n",
    "plt.ylabel('Harga')\n",
    "\n",
    "plt.show()"
   ]
  },
  {
   "cell_type": "code",
   "execution_count": null,
   "metadata": {},
   "outputs": [],
   "source": [
    "sns.displot(laptop['company'], x = laptop['company'], col=laptop['category'], col_wrap=2, height=6, aspect=3.5, palette='Set1', hue=laptop['company'])\n",
    "    \n",
    "plt.show()"
   ]
  },
  {
   "cell_type": "code",
   "execution_count": null,
   "metadata": {},
   "outputs": [],
   "source": [
    "sns.set(style='darkgrid')\n",
    "\n",
    "sns.regplot(data=laptop, x = 'ram(GB)', y = 'price')\n",
    "sns.lmplot(data=laptop, x = 'ram(GB)', y = 'price')\n",
    "\n",
    "plt.title(\"Korelasi Antara RAM(GB) dan Harga\")\n",
    "plt.xlabel('Ram(GB)')\n",
    "plt.ylabel('Price')\n",
    "plt.show()"
   ]
  },
  {
   "cell_type": "code",
   "execution_count": null,
   "metadata": {},
   "outputs": [],
   "source": [
    "price_min = laptop['price'].min()\n",
    "price_max = laptop['price'].max()\n",
    "laptop['price_normalized'] = (laptop['price'] - price_min / (price_max - price_min))\n",
    "\n",
    "ram_min = laptop['ram(GB)'].min()\n",
    "ram_max = laptop['ram(GB)'].max()\n",
    "laptop['ram_normalized'] = (laptop['ram(GB)'] - ram_min / (ram_max - ram_min))\n",
    "\n",
    "print(laptop[['price', 'price_normalized', 'ram(GB)', 'ram_normalized']])"
   ]
  },
  {
   "attachments": {},
   "cell_type": "markdown",
   "metadata": {},
   "source": [
    "Simple Feature Scaling"
   ]
  },
  {
   "cell_type": "code",
   "execution_count": null,
   "metadata": {},
   "outputs": [],
   "source": [
    "laptop[\"price_normalized\"] = laptop[\"price\"] / laptop[\"price\"].max()\n",
    "laptop[\"ram(GB)_normalized\"] = laptop[\"ram(GB)\"] / laptop[\"ram(GB)\"].max()\n",
    "\n",
    "print(laptop[['price', 'price_normalized', 'ram(GB)', 'ram_normalized']])"
   ]
  },
  {
   "cell_type": "code",
   "execution_count": null,
   "metadata": {},
   "outputs": [],
   "source": [
    "sns.set(style='darkgrid')\n",
    "\n",
    "sns.regplot(data=laptop, x = 'ram(GB)_normalized', y = 'price_normalized')\n",
    "sns.lmplot(data=laptop, x = 'ram(GB)_normalized', y = 'price_normalized')\n",
    "\n",
    "plt.title(\"Korelasi Antara RAM(GB) dan Harga\")\n",
    "plt.xlabel('Ram(GB)')\n",
    "plt.ylabel('Price')\n",
    "plt.show()"
   ]
  },
  {
   "attachments": {},
   "cell_type": "markdown",
   "metadata": {},
   "source": [
    "Min-Max"
   ]
  },
  {
   "cell_type": "code",
   "execution_count": null,
   "metadata": {},
   "outputs": [],
   "source": [
    "laptop[\"price_normalized\"] = (laptop[\"price\"] - laptop[\"price\"].min()) / (laptop[\"price\"].max() - laptop[\"price\"].min())\n",
    "laptop[\"ram(GB)_normalized\"] = (laptop[\"ram(GB)\"] - laptop[\"ram(GB)\"].min()) / (laptop[\"ram(GB)\"].max() - laptop[\"ram(GB)\"].min())\n",
    "\n",
    "print(laptop[['price', 'price_normalized', 'ram(GB)', 'ram_normalized']])"
   ]
  },
  {
   "cell_type": "code",
   "execution_count": null,
   "metadata": {},
   "outputs": [],
   "source": [
    "sns.set(style='darkgrid')\n",
    "\n",
    "sns.regplot(data=laptop, x = 'ram(GB)_normalized', y = 'price_normalized')\n",
    "sns.lmplot(data=laptop, x = 'ram(GB)_normalized', y = 'price_normalized')\n",
    "\n",
    "plt.title(\"Korelasi Antara RAM(GB) dan Harga\")\n",
    "plt.xlabel('Ram(GB)')\n",
    "plt.ylabel('Price')\n",
    "plt.show()"
   ]
  },
  {
   "attachments": {},
   "cell_type": "markdown",
   "metadata": {},
   "source": [
    "Z-Score"
   ]
  },
  {
   "cell_type": "code",
   "execution_count": null,
   "metadata": {},
   "outputs": [],
   "source": [
    "laptop[\"price_normalized\"] = (laptop[\"price\"] - laptop[\"price\"].mean()) / laptop[\"price\"].std()\n",
    "laptop[\"ram(GB)_normalized\"] = (laptop[\"ram(GB)\"] - laptop[\"ram(GB)\"].mean()) / laptop[\"ram(GB)\"].std()\n",
    "\n",
    "print(laptop[['price', 'price_normalized', 'ram(GB)', 'ram_normalized']])"
   ]
  },
  {
   "cell_type": "code",
   "execution_count": null,
   "metadata": {},
   "outputs": [],
   "source": [
    "sns.set(style='darkgrid')\n",
    "\n",
    "sns.regplot(data=laptop, x = 'ram(GB)_normalized', y = 'price_normalized')\n",
    "sns.lmplot(data=laptop, x = 'ram(GB)_normalized', y = 'price_normalized')\n",
    "\n",
    "plt.title(\"Korelasi Antara RAM(GB) dan Harga\")\n",
    "plt.xlabel('Ram(GB)')\n",
    "plt.ylabel('Price')\n",
    "plt.show()"
   ]
  },
  {
   "cell_type": "code",
   "execution_count": null,
   "metadata": {},
   "outputs": [],
   "source": [
    "laptop.describe()"
   ]
  }
 ],
 "metadata": {
  "kernelspec": {
   "display_name": "Python 3",
   "language": "python",
   "name": "python3"
  },
  "language_info": {
   "codemirror_mode": {
    "name": "ipython",
    "version": 3
   },
   "file_extension": ".py",
   "mimetype": "text/x-python",
   "name": "python",
   "nbconvert_exporter": "python",
   "pygments_lexer": "ipython3",
   "version": "3.9.12"
  },
  "orig_nbformat": 4
 },
 "nbformat": 4,
 "nbformat_minor": 2
}
